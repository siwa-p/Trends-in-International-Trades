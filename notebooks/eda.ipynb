{
 "cells": [
  {
   "cell_type": "code",
   "execution_count": 2,
   "id": "6a3081e3",
   "metadata": {},
   "outputs": [],
   "source": [
    "import pandas as pd"
   ]
  },
  {
   "cell_type": "code",
   "execution_count": 3,
   "id": "8bb1f363",
   "metadata": {},
   "outputs": [
    {
     "name": "stdout",
     "output_type": "stream",
     "text": [
      "25/09/02 15:04:56 WARN Utils: Your hostname, prahald-ThinkPad-X13-Gen-3 resolves to a loopback address: 127.0.1.1; using 192.168.0.20 instead (on interface wlp0s20f3)\n",
      "25/09/02 15:04:56 WARN Utils: Set SPARK_LOCAL_IP if you need to bind to another address\n",
      ":: loading settings :: url = jar:file:/home/prahald/Documents/Data%20Engineering%20Bootcamp/capstone/.venv/lib/python3.10/site-packages/pyspark/jars/ivy-2.5.1.jar!/org/apache/ivy/core/settings/ivysettings.xml\n"
     ]
    },
    {
     "name": "stderr",
     "output_type": "stream",
     "text": [
      "Ivy Default Cache set to: /home/prahald/.ivy2/cache\n",
      "The jars for the packages stored in: /home/prahald/.ivy2/jars\n",
      "org.apache.iceberg#iceberg-spark-runtime-3.3_2.12 added as a dependency\n",
      "org.projectnessie.nessie-integrations#nessie-spark-extensions-3.3_2.12 added as a dependency\n",
      "software.amazon.awssdk#bundle added as a dependency\n",
      "software.amazon.awssdk#url-connection-client added as a dependency\n",
      ":: resolving dependencies :: org.apache.spark#spark-submit-parent-e6a021b4-3917-4662-8e63-56bb6a4d0169;1.0\n",
      "\tconfs: [default]\n",
      "\tfound org.apache.iceberg#iceberg-spark-runtime-3.3_2.12;1.3.1 in central\n",
      "\tfound org.projectnessie.nessie-integrations#nessie-spark-extensions-3.3_2.12;0.67.0 in central\n",
      "\tfound software.amazon.awssdk#bundle;2.17.178 in central\n",
      "\tfound software.amazon.eventstream#eventstream;1.0.1 in central\n",
      "\tfound software.amazon.awssdk#url-connection-client;2.17.178 in central\n",
      "\tfound software.amazon.awssdk#utils;2.17.178 in central\n",
      "\tfound org.reactivestreams#reactive-streams;1.0.3 in central\n",
      "\tfound software.amazon.awssdk#annotations;2.17.178 in central\n",
      "\tfound org.slf4j#slf4j-api;1.7.30 in central\n",
      "\tfound software.amazon.awssdk#http-client-spi;2.17.178 in central\n",
      "\tfound software.amazon.awssdk#metrics-spi;2.17.178 in central\n",
      ":: resolution report :: resolve 610ms :: artifacts dl 29ms\n",
      "\t:: modules in use:\n",
      "\torg.apache.iceberg#iceberg-spark-runtime-3.3_2.12;1.3.1 from central in [default]\n",
      "\torg.projectnessie.nessie-integrations#nessie-spark-extensions-3.3_2.12;0.67.0 from central in [default]\n",
      "\torg.reactivestreams#reactive-streams;1.0.3 from central in [default]\n",
      "\torg.slf4j#slf4j-api;1.7.30 from central in [default]\n",
      "\tsoftware.amazon.awssdk#annotations;2.17.178 from central in [default]\n",
      "\tsoftware.amazon.awssdk#bundle;2.17.178 from central in [default]\n",
      "\tsoftware.amazon.awssdk#http-client-spi;2.17.178 from central in [default]\n",
      "\tsoftware.amazon.awssdk#metrics-spi;2.17.178 from central in [default]\n",
      "\tsoftware.amazon.awssdk#url-connection-client;2.17.178 from central in [default]\n",
      "\tsoftware.amazon.awssdk#utils;2.17.178 from central in [default]\n",
      "\tsoftware.amazon.eventstream#eventstream;1.0.1 from central in [default]\n",
      "\t---------------------------------------------------------------------\n",
      "\t|                  |            modules            ||   artifacts   |\n",
      "\t|       conf       | number| search|dwnlded|evicted|| number|dwnlded|\n",
      "\t---------------------------------------------------------------------\n",
      "\t|      default     |   11  |   0   |   0   |   0   ||   11  |   0   |\n",
      "\t---------------------------------------------------------------------\n",
      ":: retrieving :: org.apache.spark#spark-submit-parent-e6a021b4-3917-4662-8e63-56bb6a4d0169\n",
      "\tconfs: [default]\n",
      "\t0 artifacts copied, 11 already retrieved (0kB/14ms)\n"
     ]
    },
    {
     "name": "stdout",
     "output_type": "stream",
     "text": [
      "25/09/02 15:04:58 WARN NativeCodeLoader: Unable to load native-hadoop library for your platform... using builtin-java classes where applicable\n"
     ]
    },
    {
     "name": "stderr",
     "output_type": "stream",
     "text": [
      "Setting default log level to \"WARN\".\n",
      "To adjust logging level use sc.setLogLevel(newLevel). For SparkR, use setLogLevel(newLevel).\n"
     ]
    },
    {
     "name": "stdout",
     "output_type": "stream",
     "text": [
      "25/09/02 15:05:00 WARN Utils: Service 'SparkUI' could not bind on port 4040. Attempting port 4041.\n",
      "25/09/02 15:05:00 WARN Utils: Service 'SparkUI' could not bind on port 4041. Attempting port 4042.\n",
      "25/09/02 15:05:00 WARN Utils: Service 'SparkUI' could not bind on port 4042. Attempting port 4043.\n",
      "25/09/02 15:05:00 WARN Utils: Service 'SparkUI' could not bind on port 4043. Attempting port 4044.\n"
     ]
    }
   ],
   "source": [
    "from pyspark.sql import SparkSession\n",
    "import pyspark\n",
    "import os\n",
    "# from dotenv import load_dotenv\n",
    "# load_dotenv(override=True)\n",
    "NESSIE_URI = \"http://localhost:19120/api/v1\"\n",
    "WAREHOUSE = os.environ.get(\"WAREHOUSE\")  \n",
    "AWS_ACCESS_KEY = os.environ.get(\"AWS_ACCESS_KEY\")\n",
    "AWS_SECRET_KEY = os.environ.get(\"AWS_SECRET_KEY\")\n",
    "AWS_S3_ENDPOINT = \"http://localhost:9000\"\n",
    "conf = (\n",
    "    pyspark.SparkConf()\n",
    "        .setAppName(\"trade_pipeline\")\n",
    "        .set(\n",
    "            \"spark.jars.packages\",\n",
    "            \",\".join([\n",
    "                \"org.apache.iceberg:iceberg-spark-runtime-3.3_2.12:1.3.1\",\n",
    "                \"org.projectnessie.nessie-integrations:nessie-spark-extensions-3.3_2.12:0.67.0\",\n",
    "                \"software.amazon.awssdk:bundle:2.17.178\",\n",
    "                \"software.amazon.awssdk:url-connection-client:2.17.178\"\n",
    "            ])\n",
    "        )\n",
    "        .set(\"spark.sql.extensions\", \"org.apache.iceberg.spark.extensions.IcebergSparkSessionExtensions,org.projectnessie.spark.extensions.NessieSparkSessionExtensions\")\n",
    "        .set(\"spark.sql.catalog.nessie\", \"org.apache.iceberg.spark.SparkCatalog\")\n",
    "        .set(\"spark.sql.catalog.nessie.catalog-impl\", \"org.apache.iceberg.nessie.NessieCatalog\")\n",
    "        .set(\"spark.sql.catalog.nessie.uri\", NESSIE_URI)\n",
    "        .set(\"spark.sql.catalog.nessie.ref\", \"main\")\n",
    "        .set(\"spark.sql.catalog.nessie.authentication.type\", \"NONE\")\n",
    "        .set(\"spark.sql.catalog.nessie.io-impl\", \"org.apache.iceberg.aws.s3.S3FileIO\")\n",
    "        .set(\"spark.sql.catalog.nessie.warehouse\", WAREHOUSE)\n",
    "        .set(\"spark.sql.catalog.nessie.s3.endpoint\", AWS_S3_ENDPOINT)\n",
    "        .set(\"spark.sql.catalog.nessie.s3.path-style-access\", \"true\")\n",
    "        .set(\"spark.sql.catalog.nessie.client.timeout\", \"30s\")\n",
    "        # S3 Credentials\n",
    "        .set(\"spark.hadoop.fs.s3a.access.key\", AWS_ACCESS_KEY)\n",
    "        .set(\"spark.hadoop.fs.s3a.secret.key\", AWS_SECRET_KEY)\n",
    "        .set(\"spark.sql.defaultCatalog\", \"nessie\")\n",
    "        .set(\"spark.sql.catalog.demo\", \"\")\n",
    ")\n",
    "spark = SparkSession.builder \\\n",
    "        .config(conf=conf) \\\n",
    "        .getOrCreate()"
   ]
  },
  {
   "cell_type": "code",
   "execution_count": 4,
   "id": "94c3762a",
   "metadata": {},
   "outputs": [
    {
     "data": {
      "text/html": [
       "\n",
       "            <div>\n",
       "                <p><b>SparkSession - in-memory</b></p>\n",
       "                \n",
       "        <div>\n",
       "            <p><b>SparkContext</b></p>\n",
       "\n",
       "            <p><a href=\"http://192.168.0.20:4044\">Spark UI</a></p>\n",
       "\n",
       "            <dl>\n",
       "              <dt>Version</dt>\n",
       "                <dd><code>v3.3.2</code></dd>\n",
       "              <dt>Master</dt>\n",
       "                <dd><code>local[*]</code></dd>\n",
       "              <dt>AppName</dt>\n",
       "                <dd><code>trade_pipeline</code></dd>\n",
       "            </dl>\n",
       "        </div>\n",
       "        \n",
       "            </div>\n",
       "        "
      ],
      "text/plain": [
       "<pyspark.sql.session.SparkSession at 0x7df571119930>"
      ]
     },
     "execution_count": 4,
     "metadata": {},
     "output_type": "execute_result"
    }
   ],
   "source": [
    "spark"
   ]
  },
  {
   "cell_type": "code",
   "execution_count": 6,
   "id": "719d1315",
   "metadata": {},
   "outputs": [
    {
     "name": "stderr",
     "output_type": "stream",
     "text": [
      "[Stage 0:>                                                          (0 + 1) / 1]\r"
     ]
    },
    {
     "name": "stdout",
     "output_type": "stream",
     "text": [
      "+----+-----+--------+--------------------+----+-------------------+-----------+\n",
      "|YEAR|MONTH|CTY_CODE|            CTY_NAME|PORT|          PORT_NAME| ALL_VAL_MO|\n",
      "+----+-----+--------+--------------------+----+-------------------+-----------+\n",
      "|2015|    3|    null|                ASIA|   -|TOTAL FOR ALL PORTS|40349387606|\n",
      "|2015|    3|       1|                OPEC|   -|TOTAL FOR ALL PORTS| 6370247872|\n",
      "|2015|    3|       3|      EUROPEAN UNION|   -|TOTAL FOR ALL PORTS|24132189182|\n",
      "|2015|    3|      14|PACIFIC RIM COUNT...|   -|TOTAL FOR ALL PORTS|32492696802|\n",
      "|2015|    3|      17|            CAFTA-DR|   -|TOTAL FOR ALL PORTS| 2491510508|\n",
      "|2015|    3|      20|       USMCA (NAFTA)|   -|TOTAL FOR ALL PORTS|45395687584|\n",
      "|2015|    3|      21|TWENTY LATIN AMER...|   -|TOTAL FOR ALL PORTS|32162025588|\n",
      "|2015|    3|      22|                OECD|   -|TOTAL FOR ALL PORTS|88373181240|\n",
      "|2015|    3|      23|                NATO|   -|TOTAL FOR ALL PORTS|49463917409|\n",
      "|2015|    3|      24|               LAFTA|   -|TOTAL FOR ALL PORTS|28846380535|\n",
      "|2015|    3|      25|           EURO AREA|   -|TOTAL FOR ALL PORTS|18216879421|\n",
      "|2015|    3|      26|                APEC|   -|TOTAL FOR ALL PORTS|82446419754|\n",
      "|2015|    3|      27|               ASEAN|   -|TOTAL FOR ALL PORTS| 7083942790|\n",
      "|2015|    3|      28|                CACM|   -|TOTAL FOR ALL PORTS| 1867529511|\n",
      "|2015|    3|    1010|           GREENLAND|   -|TOTAL FOR ALL PORTS|    1454862|\n",
      "|2015|    3|    1220|              CANADA|   -|TOTAL FOR ALL PORTS|25505978190|\n",
      "|2015|    3|    1610|ST PIERRE AND MIQ...|   -|TOTAL FOR ALL PORTS|      18154|\n",
      "|2015|    3|    2010|              MEXICO|   -|TOTAL FOR ALL PORTS|19889709394|\n",
      "|2015|    3|    2050|           GUATEMALA|   -|TOTAL FOR ALL PORTS|  489799659|\n",
      "|2015|    3|    2080|              BELIZE|   -|TOTAL FOR ALL PORTS|   28486216|\n",
      "+----+-----+--------+--------------------+----+-------------------+-----------+\n",
      "\n"
     ]
    },
    {
     "name": "stderr",
     "output_type": "stream",
     "text": [
      "                                                                                \r"
     ]
    }
   ],
   "source": [
    "# query data from nessie\n",
    "spark.sql(\"\"\"select * from nessie.total_export_value_by_port limit 20\"\"\").show()"
   ]
  },
  {
   "cell_type": "code",
   "execution_count": null,
   "id": "f26ce558-3e8f-4d1c-98fd-3a6d9fd3673b",
   "metadata": {},
   "outputs": [],
   "source": []
  }
 ],
 "metadata": {
  "kernelspec": {
   "display_name": ".venv",
   "language": "python",
   "name": "python3"
  },
  "language_info": {
   "codemirror_mode": {
    "name": "ipython",
    "version": 3
   },
   "file_extension": ".py",
   "mimetype": "text/x-python",
   "name": "python",
   "nbconvert_exporter": "python",
   "pygments_lexer": "ipython3",
   "version": "3.10.18"
  }
 },
 "nbformat": 4,
 "nbformat_minor": 5
}
